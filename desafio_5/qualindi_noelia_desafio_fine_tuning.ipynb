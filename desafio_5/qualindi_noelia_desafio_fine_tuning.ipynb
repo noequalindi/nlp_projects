{
 "cells": [
  {
   "cell_type": "markdown",
   "metadata": {
    "id": "G63Jpt-wYcJ3"
   },
   "source": [
    "![img_uba](https://github.com/hernancontigiani/ceia_memorias_especializacion/raw/master/Figures/logoFIUBA.jpg)\n",
    "\n",
    "\n",
    "# Procesamiento de lenguaje natural\n",
    "## Bert Sentiment Analysis\n",
    "## Alumna: Noelia Qualindi"
   ]
  },
  {
   "cell_type": "markdown",
   "metadata": {},
   "source": [
    "### Arquitectura del modelo con Fine Tuning "
   ]
  },
  {
   "cell_type": "code",
   "execution_count": 1,
   "metadata": {},
   "outputs": [
    {
     "name": "stdout",
     "output_type": "stream",
     "text": [
      "Found existing installation: tensorflow 2.17.0\n",
      "Uninstalling tensorflow-2.17.0:\n",
      "  Successfully uninstalled tensorflow-2.17.0\n",
      "Found existing installation: keras 3.5.0\n",
      "Uninstalling keras-3.5.0:\n",
      "  Successfully uninstalled keras-3.5.0\n",
      "Collecting tensorflow\n",
      "  Using cached tensorflow-2.17.0-cp310-cp310-macosx_12_0_arm64.whl.metadata (4.1 kB)\n",
      "Requirement already satisfied: absl-py>=1.0.0 in /opt/anaconda3/envs/anaconda_python_3.10/lib/python3.10/site-packages (from tensorflow) (2.1.0)\n",
      "Requirement already satisfied: astunparse>=1.6.0 in /opt/anaconda3/envs/anaconda_python_3.10/lib/python3.10/site-packages (from tensorflow) (1.6.3)\n",
      "Requirement already satisfied: flatbuffers>=24.3.25 in /opt/anaconda3/envs/anaconda_python_3.10/lib/python3.10/site-packages (from tensorflow) (24.3.25)\n",
      "Requirement already satisfied: gast!=0.5.0,!=0.5.1,!=0.5.2,>=0.2.1 in /opt/anaconda3/envs/anaconda_python_3.10/lib/python3.10/site-packages (from tensorflow) (0.6.0)\n",
      "Requirement already satisfied: google-pasta>=0.1.1 in /opt/anaconda3/envs/anaconda_python_3.10/lib/python3.10/site-packages (from tensorflow) (0.2.0)\n",
      "Requirement already satisfied: h5py>=3.10.0 in /opt/anaconda3/envs/anaconda_python_3.10/lib/python3.10/site-packages (from tensorflow) (3.11.0)\n",
      "Requirement already satisfied: libclang>=13.0.0 in /opt/anaconda3/envs/anaconda_python_3.10/lib/python3.10/site-packages (from tensorflow) (18.1.1)\n",
      "Requirement already satisfied: ml-dtypes<0.5.0,>=0.3.1 in /opt/anaconda3/envs/anaconda_python_3.10/lib/python3.10/site-packages (from tensorflow) (0.3.2)\n",
      "Requirement already satisfied: opt-einsum>=2.3.2 in /opt/anaconda3/envs/anaconda_python_3.10/lib/python3.10/site-packages (from tensorflow) (3.3.0)\n",
      "Requirement already satisfied: packaging in /opt/anaconda3/envs/anaconda_python_3.10/lib/python3.10/site-packages (from tensorflow) (24.1)\n",
      "Requirement already satisfied: protobuf!=4.21.0,!=4.21.1,!=4.21.2,!=4.21.3,!=4.21.4,!=4.21.5,<5.0.0dev,>=3.20.3 in /opt/anaconda3/envs/anaconda_python_3.10/lib/python3.10/site-packages (from tensorflow) (4.25.4)\n",
      "Requirement already satisfied: requests<3,>=2.21.0 in /opt/anaconda3/envs/anaconda_python_3.10/lib/python3.10/site-packages (from tensorflow) (2.32.3)\n",
      "Requirement already satisfied: setuptools in /opt/anaconda3/envs/anaconda_python_3.10/lib/python3.10/site-packages (from tensorflow) (72.1.0)\n",
      "Requirement already satisfied: six>=1.12.0 in /opt/anaconda3/envs/anaconda_python_3.10/lib/python3.10/site-packages (from tensorflow) (1.16.0)\n",
      "Requirement already satisfied: termcolor>=1.1.0 in /opt/anaconda3/envs/anaconda_python_3.10/lib/python3.10/site-packages (from tensorflow) (2.4.0)\n",
      "Requirement already satisfied: typing-extensions>=3.6.6 in /opt/anaconda3/envs/anaconda_python_3.10/lib/python3.10/site-packages (from tensorflow) (4.12.2)\n",
      "Requirement already satisfied: wrapt>=1.11.0 in /opt/anaconda3/envs/anaconda_python_3.10/lib/python3.10/site-packages (from tensorflow) (1.16.0)\n",
      "Requirement already satisfied: grpcio<2.0,>=1.24.3 in /opt/anaconda3/envs/anaconda_python_3.10/lib/python3.10/site-packages (from tensorflow) (1.65.1)\n",
      "Requirement already satisfied: tensorboard<2.18,>=2.17 in /opt/anaconda3/envs/anaconda_python_3.10/lib/python3.10/site-packages (from tensorflow) (2.17.0)\n",
      "Collecting keras>=3.2.0 (from tensorflow)\n",
      "  Using cached keras-3.5.0-py3-none-any.whl.metadata (5.8 kB)\n",
      "Requirement already satisfied: tensorflow-io-gcs-filesystem>=0.23.1 in /opt/anaconda3/envs/anaconda_python_3.10/lib/python3.10/site-packages (from tensorflow) (0.37.1)\n",
      "Requirement already satisfied: numpy<2.0.0,>=1.23.5 in /opt/anaconda3/envs/anaconda_python_3.10/lib/python3.10/site-packages (from tensorflow) (1.23.5)\n",
      "Requirement already satisfied: wheel<1.0,>=0.23.0 in /opt/anaconda3/envs/anaconda_python_3.10/lib/python3.10/site-packages (from astunparse>=1.6.0->tensorflow) (0.43.0)\n",
      "Requirement already satisfied: rich in /opt/anaconda3/envs/anaconda_python_3.10/lib/python3.10/site-packages (from keras>=3.2.0->tensorflow) (13.7.1)\n",
      "Requirement already satisfied: namex in /opt/anaconda3/envs/anaconda_python_3.10/lib/python3.10/site-packages (from keras>=3.2.0->tensorflow) (0.0.8)\n",
      "Requirement already satisfied: optree in /opt/anaconda3/envs/anaconda_python_3.10/lib/python3.10/site-packages (from keras>=3.2.0->tensorflow) (0.12.1)\n",
      "Requirement already satisfied: charset-normalizer<4,>=2 in /opt/anaconda3/envs/anaconda_python_3.10/lib/python3.10/site-packages (from requests<3,>=2.21.0->tensorflow) (3.3.2)\n",
      "Requirement already satisfied: idna<4,>=2.5 in /opt/anaconda3/envs/anaconda_python_3.10/lib/python3.10/site-packages (from requests<3,>=2.21.0->tensorflow) (3.7)\n",
      "Requirement already satisfied: urllib3<3,>=1.21.1 in /opt/anaconda3/envs/anaconda_python_3.10/lib/python3.10/site-packages (from requests<3,>=2.21.0->tensorflow) (2.2.2)\n",
      "Requirement already satisfied: certifi>=2017.4.17 in /opt/anaconda3/envs/anaconda_python_3.10/lib/python3.10/site-packages (from requests<3,>=2.21.0->tensorflow) (2024.7.4)\n",
      "Requirement already satisfied: markdown>=2.6.8 in /opt/anaconda3/envs/anaconda_python_3.10/lib/python3.10/site-packages (from tensorboard<2.18,>=2.17->tensorflow) (3.6)\n",
      "Requirement already satisfied: tensorboard-data-server<0.8.0,>=0.7.0 in /opt/anaconda3/envs/anaconda_python_3.10/lib/python3.10/site-packages (from tensorboard<2.18,>=2.17->tensorflow) (0.7.2)\n",
      "Requirement already satisfied: werkzeug>=1.0.1 in /opt/anaconda3/envs/anaconda_python_3.10/lib/python3.10/site-packages (from tensorboard<2.18,>=2.17->tensorflow) (3.0.3)\n",
      "Requirement already satisfied: MarkupSafe>=2.1.1 in /opt/anaconda3/envs/anaconda_python_3.10/lib/python3.10/site-packages (from werkzeug>=1.0.1->tensorboard<2.18,>=2.17->tensorflow) (2.1.5)\n",
      "Requirement already satisfied: markdown-it-py>=2.2.0 in /opt/anaconda3/envs/anaconda_python_3.10/lib/python3.10/site-packages (from rich->keras>=3.2.0->tensorflow) (3.0.0)\n",
      "Requirement already satisfied: pygments<3.0.0,>=2.13.0 in /opt/anaconda3/envs/anaconda_python_3.10/lib/python3.10/site-packages (from rich->keras>=3.2.0->tensorflow) (2.18.0)\n",
      "Requirement already satisfied: mdurl~=0.1 in /opt/anaconda3/envs/anaconda_python_3.10/lib/python3.10/site-packages (from markdown-it-py>=2.2.0->rich->keras>=3.2.0->tensorflow) (0.1.2)\n",
      "Using cached tensorflow-2.17.0-cp310-cp310-macosx_12_0_arm64.whl (236.1 MB)\n",
      "Using cached keras-3.5.0-py3-none-any.whl (1.1 MB)\n",
      "Installing collected packages: keras, tensorflow\n",
      "\u001b[31mERROR: pip's dependency resolver does not currently take into account all the packages that are installed. This behaviour is the source of the following dependency conflicts.\n",
      "tensorflow-macos 2.16.2 requires tensorflow==2.16.2; platform_system == \"Darwin\" and platform_machine == \"arm64\", but you have tensorflow 2.17.0 which is incompatible.\u001b[0m\u001b[31m\n",
      "\u001b[0mSuccessfully installed keras-3.5.0 tensorflow-2.17.0\n"
     ]
    }
   ],
   "source": [
    "!pip uninstall -y tensorflow keras\n",
    "!pip install tensorflow"
   ]
  },
  {
   "cell_type": "code",
   "execution_count": 2,
   "metadata": {},
   "outputs": [],
   "source": [
    "!pip install transformers --quiet"
   ]
  },
  {
   "cell_type": "code",
   "execution_count": 3,
   "metadata": {},
   "outputs": [
    {
     "name": "stderr",
     "output_type": "stream",
     "text": [
      "/opt/anaconda3/envs/anaconda_python_3.10/lib/python3.10/site-packages/tqdm/auto.py:21: TqdmWarning: IProgress not found. Please update jupyter and ipywidgets. See https://ipywidgets.readthedocs.io/en/stable/user_install.html\n",
      "  from .autonotebook import tqdm as notebook_tqdm\n"
     ]
    }
   ],
   "source": [
    "# importación de librerias\n",
    "import tensorflow\n",
    "from transformers import TFBertModel"
   ]
  },
  {
   "cell_type": "markdown",
   "metadata": {},
   "source": [
    "### Modelo con 3 clases"
   ]
  },
  {
   "cell_type": "code",
   "execution_count": 4,
   "metadata": {},
   "outputs": [],
   "source": [
    "max_length = 139\n",
    "num_classes = 3 # output shapes"
   ]
  },
  {
   "cell_type": "code",
   "execution_count": 5,
   "metadata": {},
   "outputs": [
    {
     "name": "stderr",
     "output_type": "stream",
     "text": [
      "2024-08-31 22:33:26.422146: I metal_plugin/src/device/metal_device.cc:1154] Metal device set to: Apple M3 Pro\n",
      "2024-08-31 22:33:26.422168: I metal_plugin/src/device/metal_device.cc:296] systemMemory: 36.00 GB\n",
      "2024-08-31 22:33:26.422173: I metal_plugin/src/device/metal_device.cc:313] maxCacheSize: 13.50 GB\n",
      "2024-08-31 22:33:26.422189: I tensorflow/core/common_runtime/pluggable_device/pluggable_device_factory.cc:305] Could not identify NUMA node of platform GPU ID 0, defaulting to 0. Your kernel may not have been built with NUMA support.\n",
      "2024-08-31 22:33:26.422201: I tensorflow/core/common_runtime/pluggable_device/pluggable_device_factory.cc:271] Created TensorFlow device (/job:localhost/replica:0/task:0/device:GPU:0 with 0 MB memory) -> physical PluggableDevice (device: 0, name: METAL, pci bus id: <undefined>)\n",
      "Some weights of the PyTorch model were not used when initializing the TF 2.0 model TFBertModel: ['cls.predictions.transform.dense.bias', 'cls.seq_relationship.weight', 'cls.predictions.transform.LayerNorm.weight', 'cls.predictions.transform.LayerNorm.bias', 'cls.predictions.transform.dense.weight', 'cls.seq_relationship.bias', 'cls.predictions.bias']\n",
      "- This IS expected if you are initializing TFBertModel from a PyTorch model trained on another task or with another architecture (e.g. initializing a TFBertForSequenceClassification model from a BertForPreTraining model).\n",
      "- This IS NOT expected if you are initializing TFBertModel from a PyTorch model that you expect to be exactly identical (e.g. initializing a TFBertForSequenceClassification model from a BertForSequenceClassification model).\n",
      "All the weights of TFBertModel were initialized from the PyTorch model.\n",
      "If your task is similar to the task the model of the checkpoint was trained on, you can already use TFBertModel for predictions without further training.\n"
     ]
    }
   ],
   "source": [
    "# Carga del modelo BERT\n",
    "bert_model = TFBertModel.from_pretrained('bert-base-uncased')"
   ]
  },
  {
   "cell_type": "code",
   "execution_count": 7,
   "metadata": {},
   "outputs": [
    {
     "name": "stderr",
     "output_type": "stream",
     "text": [
      "WARNING:absl:At this time, the v2.11+ optimizer `tf.keras.optimizers.Adam` runs slowly on M1/M2 Macs, please use the legacy TF-Keras optimizer instead, located at `tf.keras.optimizers.legacy.Adam`.\n"
     ]
    },
    {
     "name": "stdout",
     "output_type": "stream",
     "text": [
      "Model: \"model_1\"\n",
      "__________________________________________________________________________________________________\n",
      " Layer (type)                Output Shape                 Param #   Connected to                  \n",
      "==================================================================================================\n",
      " input_ids (InputLayer)      [(None, 139)]                0         []                            \n",
      "                                                                                                  \n",
      " attention_mask (InputLayer  [(None, 139)]                0         []                            \n",
      " )                                                                                                \n",
      "                                                                                                  \n",
      " tf_bert_model (TFBertModel  TFBaseModelOutputWithPooli   1094822   ['input_ids[0][0]',           \n",
      " )                           ngAndCrossAttentions(last_   40         'attention_mask[0][0]']      \n",
      "                             hidden_state=(None, 139, 7                                           \n",
      "                             68),                                                                 \n",
      "                              pooler_output=(None, 768)                                           \n",
      "                             , past_key_values=None, hi                                           \n",
      "                             dden_states=None, attentio                                           \n",
      "                             ns=None, cross_attentions=                                           \n",
      "                             None)                                                                \n",
      "                                                                                                  \n",
      " dropout_38 (Dropout)        (None, 768)                  0         ['tf_bert_model[1][1]']       \n",
      "                                                                                                  \n",
      " dense_1 (Dense)             (None, 3)                    2307      ['dropout_38[0][0]']          \n",
      "                                                                                                  \n",
      "==================================================================================================\n",
      "Total params: 109484547 (417.65 MB)\n",
      "Trainable params: 109484547 (417.65 MB)\n",
      "Non-trainable params: 0 (0.00 Byte)\n",
      "__________________________________________________________________________________________________\n"
     ]
    }
   ],
   "source": [
    "bert_model.bert.trainable = True\n",
    "\n",
    "input_ids = tensorflow.keras.Input(shape=(max_length,), dtype=tensorflow.int32, name='input_ids')\n",
    "attention_mask = tensorflow.keras.Input(shape=(max_length,), dtype=tensorflow.int32, name='attention_mask')\n",
    "outputs = bert_model(input_ids, attention_mask=attention_mask)\n",
    "pooled_output = outputs.pooler_output\n",
    "x = tensorflow.keras.layers.Dropout(0.2)(pooled_output)\n",
    "output = tensorflow.keras.layers.Dense(num_classes, activation='softmax')(x)\n",
    "\n",
    "optimizer = tensorflow.keras.optimizers.Adam(learning_rate=0.00001)\n",
    "model = tensorflow.keras.Model(inputs=[input_ids, attention_mask], outputs=output)\n",
    "model.compile(optimizer=optimizer,\n",
    "              loss='categorical_crossentropy',\n",
    "              metrics=['accuracy',tensorflow.keras.metrics.F1Score(average='macro'), tensorflow.keras.metrics.Precision(), tensorflow.keras.metrics.Recall()]) \n",
    "\n",
    "model.summary()"
   ]
  },
  {
   "cell_type": "code",
   "execution_count": 8,
   "metadata": {
    "id": "cjQ7q6N7CL_J"
   },
   "outputs": [],
   "source": [
    "import matplotlib.pyplot as plt\n",
    "import seaborn as sns\n",
    "\n",
    "def plot_train_metrics(history):\n",
    "    # Obtener los datos de precisión y pérdida de entrenamiento y validación\n",
    "    acc = history.history.get('accuracy', [])\n",
    "    val_acc = history.history.get('val_accuracy', [])\n",
    "    loss = history.history.get('loss', [])\n",
    "    val_loss = history.history.get('val_loss', [])\n",
    "    \n",
    "    epoch_count = range(1, len(acc) + 1)\n",
    "    \n",
    "    # Graficar precisión\n",
    "    plt.figure(figsize=(8, 4))\n",
    "    sns.lineplot(x=epoch_count, y=acc, label='Train Accuracy')\n",
    "    sns.lineplot(x=epoch_count, y=val_acc, label='Validation Accuracy')\n",
    "    plt.xlabel('Epoch')\n",
    "    plt.ylabel('Accuracy')\n",
    "    plt.title('Training and Validation Accuracy')\n",
    "    plt.legend()\n",
    "    plt.show()\n",
    "    \n",
    "    # Graficar pérdida\n",
    "    plt.figure(figsize=(8, 4))\n",
    "    sns.lineplot(x=epoch_count, y=loss, label='Train Loss')\n",
    "    sns.lineplot(x=epoch_count, y=val_loss, label='Validation Loss')\n",
    "    plt.xlabel('Epoch')\n",
    "    plt.ylabel('Loss')\n",
    "    plt.title('Training and Validation Loss')\n",
    "    plt.legend()\n",
    "    plt.show()"
   ]
  },
  {
   "cell_type": "markdown",
   "metadata": {},
   "source": [
    "## Dataset"
   ]
  },
  {
   "cell_type": "code",
   "execution_count": 5,
   "metadata": {
    "colab": {
     "base_uri": "https://localhost:8080/"
    },
    "id": "QBjUqdvpvLUG",
    "outputId": "c75a83f5-669b-4f3f-fb2c-5eb507d36e40"
   },
   "outputs": [
    {
     "name": "stdout",
     "output_type": "stream",
     "text": [
      "  % Total    % Received % Xferd  Average Speed   Time    Time     Time  Current\n",
      "                                 Dload  Upload   Total   Spent    Left  Speed\n",
      "  0     0    0     0    0     0      0      0 --:--:-- --:--:-- --:--:--     0\n",
      "  0     0    0     0    0     0      0      0 --:--:-- --:--:-- --:--:--     0\n",
      "100  131k  100  131k    0     0  47384      0  0:00:02  0:00:02 --:--:-- 58806\n",
      "  % Total    % Received % Xferd  Average Speed   Time    Time     Time  Current\n",
      "                                 Dload  Upload   Total   Spent    Left  Speed\n",
      "  0     0    0     0    0     0      0      0 --:--:-- --:--:-- --:--:--     0\n",
      "  0     0    0     0    0     0      0      0 --:--:-- --:--:-- --:--:--     0\n",
      "100 7002k  100 7002k    0     0   376k      0  0:00:18  0:00:18 --:--:-- 1766k\n"
     ]
    }
   ],
   "source": [
    "# Descargar la carpeta de dataset\n",
    "!curl -L -o 'apps.csv' 'https://drive.google.com/u/0/uc?id=1S6qMioqPJjyBLpLVz4gmRTnJHnjitnuV&export=download&confirm=t'\n",
    "!curl -L -o 'reviews.csv' 'https://drive.google.com/u/0/uc?id=1zdmewp7ayS4js4VtrJEHzAheSW-5NBZv&export=download&confirm=t'"
   ]
  },
  {
   "cell_type": "code",
   "execution_count": 9,
   "metadata": {
    "colab": {
     "base_uri": "https://localhost:8080/",
     "height": 687
    },
    "id": "KPlBX0wV8gv9",
    "outputId": "c144beec-9c58-4b6d-9b85-bc46de6d383e"
   },
   "outputs": [
    {
     "data": {
      "text/html": [
       "<div>\n",
       "<style scoped>\n",
       "    .dataframe tbody tr th:only-of-type {\n",
       "        vertical-align: middle;\n",
       "    }\n",
       "\n",
       "    .dataframe tbody tr th {\n",
       "        vertical-align: top;\n",
       "    }\n",
       "\n",
       "    .dataframe thead th {\n",
       "        text-align: right;\n",
       "    }\n",
       "</style>\n",
       "<table border=\"1\" class=\"dataframe\">\n",
       "  <thead>\n",
       "    <tr style=\"text-align: right;\">\n",
       "      <th></th>\n",
       "      <th>userName</th>\n",
       "      <th>userImage</th>\n",
       "      <th>content</th>\n",
       "      <th>score</th>\n",
       "      <th>thumbsUpCount</th>\n",
       "      <th>reviewCreatedVersion</th>\n",
       "      <th>at</th>\n",
       "      <th>replyContent</th>\n",
       "      <th>repliedAt</th>\n",
       "      <th>sortOrder</th>\n",
       "      <th>appId</th>\n",
       "    </tr>\n",
       "  </thead>\n",
       "  <tbody>\n",
       "    <tr>\n",
       "      <th>0</th>\n",
       "      <td>Andrew Thomas</td>\n",
       "      <td>https://lh3.googleusercontent.com/a-/AOh14GiHd...</td>\n",
       "      <td>Update: After getting a response from the deve...</td>\n",
       "      <td>1</td>\n",
       "      <td>21</td>\n",
       "      <td>4.17.0.3</td>\n",
       "      <td>2020-04-05 22:25:57</td>\n",
       "      <td>According to our TOS, and the term you have ag...</td>\n",
       "      <td>2020-04-05 15:10:24</td>\n",
       "      <td>most_relevant</td>\n",
       "      <td>com.anydo</td>\n",
       "    </tr>\n",
       "    <tr>\n",
       "      <th>1</th>\n",
       "      <td>Craig Haines</td>\n",
       "      <td>https://lh3.googleusercontent.com/-hoe0kwSJgPQ...</td>\n",
       "      <td>Used it for a fair amount of time without any ...</td>\n",
       "      <td>1</td>\n",
       "      <td>11</td>\n",
       "      <td>4.17.0.3</td>\n",
       "      <td>2020-04-04 13:40:01</td>\n",
       "      <td>It sounds like you logged in with a different ...</td>\n",
       "      <td>2020-04-05 15:11:35</td>\n",
       "      <td>most_relevant</td>\n",
       "      <td>com.anydo</td>\n",
       "    </tr>\n",
       "    <tr>\n",
       "      <th>2</th>\n",
       "      <td>steven adkins</td>\n",
       "      <td>https://lh3.googleusercontent.com/a-/AOh14GiXw...</td>\n",
       "      <td>Your app sucks now!!!!! Used to be good but no...</td>\n",
       "      <td>1</td>\n",
       "      <td>17</td>\n",
       "      <td>4.17.0.3</td>\n",
       "      <td>2020-04-01 16:18:13</td>\n",
       "      <td>This sounds odd! We are not aware of any issue...</td>\n",
       "      <td>2020-04-02 16:05:56</td>\n",
       "      <td>most_relevant</td>\n",
       "      <td>com.anydo</td>\n",
       "    </tr>\n",
       "    <tr>\n",
       "      <th>3</th>\n",
       "      <td>Lars Panzerbjørn</td>\n",
       "      <td>https://lh3.googleusercontent.com/a-/AOh14Gg-h...</td>\n",
       "      <td>It seems OK, but very basic. Recurring tasks n...</td>\n",
       "      <td>1</td>\n",
       "      <td>192</td>\n",
       "      <td>4.17.0.2</td>\n",
       "      <td>2020-03-12 08:17:34</td>\n",
       "      <td>We do offer this option as part of the Advance...</td>\n",
       "      <td>2020-03-15 06:20:13</td>\n",
       "      <td>most_relevant</td>\n",
       "      <td>com.anydo</td>\n",
       "    </tr>\n",
       "    <tr>\n",
       "      <th>4</th>\n",
       "      <td>Scott Prewitt</td>\n",
       "      <td>https://lh3.googleusercontent.com/-K-X1-YsVd6U...</td>\n",
       "      <td>Absolutely worthless. This app runs a prohibit...</td>\n",
       "      <td>1</td>\n",
       "      <td>42</td>\n",
       "      <td>4.17.0.2</td>\n",
       "      <td>2020-03-14 17:41:01</td>\n",
       "      <td>We're sorry you feel this way! 90% of the app ...</td>\n",
       "      <td>2020-03-15 23:45:51</td>\n",
       "      <td>most_relevant</td>\n",
       "      <td>com.anydo</td>\n",
       "    </tr>\n",
       "  </tbody>\n",
       "</table>\n",
       "</div>"
      ],
      "text/plain": [
       "           userName                                          userImage  \\\n",
       "0     Andrew Thomas  https://lh3.googleusercontent.com/a-/AOh14GiHd...   \n",
       "1      Craig Haines  https://lh3.googleusercontent.com/-hoe0kwSJgPQ...   \n",
       "2     steven adkins  https://lh3.googleusercontent.com/a-/AOh14GiXw...   \n",
       "3  Lars Panzerbjørn  https://lh3.googleusercontent.com/a-/AOh14Gg-h...   \n",
       "4     Scott Prewitt  https://lh3.googleusercontent.com/-K-X1-YsVd6U...   \n",
       "\n",
       "                                             content  score  thumbsUpCount  \\\n",
       "0  Update: After getting a response from the deve...      1             21   \n",
       "1  Used it for a fair amount of time without any ...      1             11   \n",
       "2  Your app sucks now!!!!! Used to be good but no...      1             17   \n",
       "3  It seems OK, but very basic. Recurring tasks n...      1            192   \n",
       "4  Absolutely worthless. This app runs a prohibit...      1             42   \n",
       "\n",
       "  reviewCreatedVersion                   at  \\\n",
       "0             4.17.0.3  2020-04-05 22:25:57   \n",
       "1             4.17.0.3  2020-04-04 13:40:01   \n",
       "2             4.17.0.3  2020-04-01 16:18:13   \n",
       "3             4.17.0.2  2020-03-12 08:17:34   \n",
       "4             4.17.0.2  2020-03-14 17:41:01   \n",
       "\n",
       "                                        replyContent            repliedAt  \\\n",
       "0  According to our TOS, and the term you have ag...  2020-04-05 15:10:24   \n",
       "1  It sounds like you logged in with a different ...  2020-04-05 15:11:35   \n",
       "2  This sounds odd! We are not aware of any issue...  2020-04-02 16:05:56   \n",
       "3  We do offer this option as part of the Advance...  2020-03-15 06:20:13   \n",
       "4  We're sorry you feel this way! 90% of the app ...  2020-03-15 23:45:51   \n",
       "\n",
       "       sortOrder      appId  \n",
       "0  most_relevant  com.anydo  \n",
       "1  most_relevant  com.anydo  \n",
       "2  most_relevant  com.anydo  \n",
       "3  most_relevant  com.anydo  \n",
       "4  most_relevant  com.anydo  "
      ]
     },
     "execution_count": 9,
     "metadata": {},
     "output_type": "execute_result"
    }
   ],
   "source": [
    "import pandas as pd\n",
    "# Armar el dataset\n",
    "df = pd.read_csv('reviews.csv')\n",
    "df.head()"
   ]
  },
  {
   "cell_type": "code",
   "execution_count": 10,
   "metadata": {},
   "outputs": [
    {
     "data": {
      "text/html": [
       "<div>\n",
       "<style scoped>\n",
       "    .dataframe tbody tr th:only-of-type {\n",
       "        vertical-align: middle;\n",
       "    }\n",
       "\n",
       "    .dataframe tbody tr th {\n",
       "        vertical-align: top;\n",
       "    }\n",
       "\n",
       "    .dataframe thead th {\n",
       "        text-align: right;\n",
       "    }\n",
       "</style>\n",
       "<table border=\"1\" class=\"dataframe\">\n",
       "  <thead>\n",
       "    <tr style=\"text-align: right;\">\n",
       "      <th></th>\n",
       "      <th>userName</th>\n",
       "      <th>userImage</th>\n",
       "      <th>content</th>\n",
       "      <th>score</th>\n",
       "      <th>thumbsUpCount</th>\n",
       "      <th>reviewCreatedVersion</th>\n",
       "      <th>at</th>\n",
       "      <th>replyContent</th>\n",
       "      <th>repliedAt</th>\n",
       "      <th>sortOrder</th>\n",
       "      <th>appId</th>\n",
       "    </tr>\n",
       "  </thead>\n",
       "  <tbody>\n",
       "    <tr>\n",
       "      <th>15741</th>\n",
       "      <td>Tammy Kay</td>\n",
       "      <td>https://lh3.googleusercontent.com/a-/AOh14GhYP...</td>\n",
       "      <td>I believe that this is by far the best app wit...</td>\n",
       "      <td>5</td>\n",
       "      <td>0</td>\n",
       "      <td>NaN</td>\n",
       "      <td>2018-02-17 06:09:03</td>\n",
       "      <td>NaN</td>\n",
       "      <td>NaN</td>\n",
       "      <td>newest</td>\n",
       "      <td>com.appxy.planner</td>\n",
       "    </tr>\n",
       "    <tr>\n",
       "      <th>15742</th>\n",
       "      <td>Ysm Johan</td>\n",
       "      <td>https://lh3.googleusercontent.com/a-/AOh14Ggmd...</td>\n",
       "      <td>It sometimes crashes a lot!!</td>\n",
       "      <td>5</td>\n",
       "      <td>0</td>\n",
       "      <td>4.3.7</td>\n",
       "      <td>2018-02-15 10:45:22</td>\n",
       "      <td>NaN</td>\n",
       "      <td>NaN</td>\n",
       "      <td>newest</td>\n",
       "      <td>com.appxy.planner</td>\n",
       "    </tr>\n",
       "    <tr>\n",
       "      <th>15743</th>\n",
       "      <td>casey dearden</td>\n",
       "      <td>https://lh3.googleusercontent.com/a-/AOh14Gg2U...</td>\n",
       "      <td>Works well for what I need</td>\n",
       "      <td>5</td>\n",
       "      <td>0</td>\n",
       "      <td>4.3.7</td>\n",
       "      <td>2018-02-09 18:40:37</td>\n",
       "      <td>NaN</td>\n",
       "      <td>NaN</td>\n",
       "      <td>newest</td>\n",
       "      <td>com.appxy.planner</td>\n",
       "    </tr>\n",
       "    <tr>\n",
       "      <th>15744</th>\n",
       "      <td>Jerry G Tamate</td>\n",
       "      <td>https://lh3.googleusercontent.com/a-/AOh14GiTP...</td>\n",
       "      <td>Love it.</td>\n",
       "      <td>5</td>\n",
       "      <td>0</td>\n",
       "      <td>NaN</td>\n",
       "      <td>2018-02-06 12:36:17</td>\n",
       "      <td>NaN</td>\n",
       "      <td>NaN</td>\n",
       "      <td>newest</td>\n",
       "      <td>com.appxy.planner</td>\n",
       "    </tr>\n",
       "    <tr>\n",
       "      <th>15745</th>\n",
       "      <td>Ahmed elsalamouni</td>\n",
       "      <td>https://lh3.googleusercontent.com/-9QSxVUhCoDI...</td>\n",
       "      <td>Really amazing and helped me sooo much just i ...</td>\n",
       "      <td>5</td>\n",
       "      <td>6</td>\n",
       "      <td>4.3.7</td>\n",
       "      <td>2018-02-04 22:57:09</td>\n",
       "      <td>NaN</td>\n",
       "      <td>NaN</td>\n",
       "      <td>newest</td>\n",
       "      <td>com.appxy.planner</td>\n",
       "    </tr>\n",
       "  </tbody>\n",
       "</table>\n",
       "</div>"
      ],
      "text/plain": [
       "                userName                                          userImage  \\\n",
       "15741          Tammy Kay  https://lh3.googleusercontent.com/a-/AOh14GhYP...   \n",
       "15742          Ysm Johan  https://lh3.googleusercontent.com/a-/AOh14Ggmd...   \n",
       "15743      casey dearden  https://lh3.googleusercontent.com/a-/AOh14Gg2U...   \n",
       "15744     Jerry G Tamate  https://lh3.googleusercontent.com/a-/AOh14GiTP...   \n",
       "15745  Ahmed elsalamouni  https://lh3.googleusercontent.com/-9QSxVUhCoDI...   \n",
       "\n",
       "                                                 content  score  \\\n",
       "15741  I believe that this is by far the best app wit...      5   \n",
       "15742                       It sometimes crashes a lot!!      5   \n",
       "15743                         Works well for what I need      5   \n",
       "15744                                           Love it.      5   \n",
       "15745  Really amazing and helped me sooo much just i ...      5   \n",
       "\n",
       "       thumbsUpCount reviewCreatedVersion                   at replyContent  \\\n",
       "15741              0                  NaN  2018-02-17 06:09:03          NaN   \n",
       "15742              0                4.3.7  2018-02-15 10:45:22          NaN   \n",
       "15743              0                4.3.7  2018-02-09 18:40:37          NaN   \n",
       "15744              0                  NaN  2018-02-06 12:36:17          NaN   \n",
       "15745              6                4.3.7  2018-02-04 22:57:09          NaN   \n",
       "\n",
       "      repliedAt sortOrder              appId  \n",
       "15741       NaN    newest  com.appxy.planner  \n",
       "15742       NaN    newest  com.appxy.planner  \n",
       "15743       NaN    newest  com.appxy.planner  \n",
       "15744       NaN    newest  com.appxy.planner  \n",
       "15745       NaN    newest  com.appxy.planner  "
      ]
     },
     "execution_count": 10,
     "metadata": {},
     "output_type": "execute_result"
    }
   ],
   "source": [
    "df.tail()"
   ]
  },
  {
   "cell_type": "code",
   "execution_count": 11,
   "metadata": {
    "colab": {
     "base_uri": "https://localhost:8080/"
    },
    "id": "loFa9OgIROfi",
    "outputId": "2f1e4089-4956-40ad-a9b7-a126df74d0f0"
   },
   "outputs": [
    {
     "name": "stdout",
     "output_type": "stream",
     "text": [
      "Cantidad de críticas: 15746\n"
     ]
    }
   ],
   "source": [
    "print(\"Cantidad de críticas:\", len(df))"
   ]
  },
  {
   "cell_type": "code",
   "execution_count": 12,
   "metadata": {},
   "outputs": [
    {
     "name": "stdout",
     "output_type": "stream",
     "text": [
      "Index(['userName', 'userImage', 'content', 'score', 'thumbsUpCount',\n",
      "       'reviewCreatedVersion', 'at', 'replyContent', 'repliedAt', 'sortOrder',\n",
      "       'appId'],\n",
      "      dtype='object')\n"
     ]
    }
   ],
   "source": [
    "print(df.columns)"
   ]
  },
  {
   "cell_type": "code",
   "execution_count": 13,
   "metadata": {
    "colab": {
     "base_uri": "https://localhost:8080/",
     "height": 354
    },
    "id": "fpwgmwN4W549",
    "outputId": "00d06044-a31b-461b-c00a-b0efec18071b"
   },
   "outputs": [
    {
     "data": {
      "text/plain": [
       "<Axes: xlabel='score', ylabel='count'>"
      ]
     },
     "execution_count": 13,
     "metadata": {},
     "output_type": "execute_result"
    },
    {
     "data": {
      "image/png": "[encoded data removed]",
      "text/plain": [
       "<Figure size 640x480 with 1 Axes>"
      ]
     },
     "metadata": {},
     "output_type": "display_data"
    }
   ],
   "source": [
    "# ¿Cómo están balanceados los datos?\n",
    "sns.countplot(x=df.score)"
   ]
  },
  {
   "cell_type": "markdown",
   "metadata": {
    "id": "BCO209z59D7C"
   },
   "source": [
    "## Limpieza de datos"
   ]
  },
  {
   "cell_type": "code",
   "execution_count": 17,
   "metadata": {
    "id": "dE572tLfXKCX"
   },
   "outputs": [],
   "source": [
    "# Balancear los datos\n",
    "df['sentiment'] = df.score.apply(lambda x: 0 if x <=2 else 1 if x == 3 else 2)\n",
    "class_names = ['negative', 'neutral', 'positive']"
   ]
  },
  {
   "cell_type": "code",
   "execution_count": 18,
   "metadata": {},
   "outputs": [
    {
     "name": "stdout",
     "output_type": "stream",
     "text": [
      "Diccionario de salida: {0: 0, 1: 1, 2: 2, '<sos>': 3, '<eos>': 5}\n"
     ]
    }
   ],
   "source": [
    "word2idx_output = {word: idx for idx, word in enumerate(sorted(df.sentiment.unique()))}\n",
    "\n",
    "# Agregar manualmente los tokens especiales\n",
    "word2idx_output['<sos>'] = len(word2idx_output)\n",
    "word2idx_output['<eos>'] = len(word2idx_output) + 1\n",
    "\n",
    "print(\"Diccionario de salida:\", word2idx_output)"
   ]
  },
  {
   "cell_type": "code",
   "execution_count": 19,
   "metadata": {},
   "outputs": [
    {
     "name": "stderr",
     "output_type": "stream",
     "text": [
      "/var/folders/ml/g_sxsst10mj890krz6gpp0980000gn/T/ipykernel_56747/767154524.py:15: FutureWarning: \n",
      "\n",
      "Passing `palette` without assigning `hue` is deprecated and will be removed in v0.14.0. Assign the `x` variable to `hue` and set `legend=False` for the same effect.\n",
      "\n",
      "  sns.barplot(x=class_distribution.index, y=class_distribution.values, palette='viridis')\n"
     ]
    },
    {
     "data": {
      "image/png": "[encoded data removed]",
      "text/plain": [
       "<Figure size 800x600 with 1 Axes>"
      ]
     },
     "metadata": {},
     "output_type": "display_data"
    }
   ],
   "source": [
    "import matplotlib.pyplot as plt\n",
    "import seaborn as sns\n",
    "\n",
    "# Define los nombres de las clases\n",
    "class_names = ['negative', 'neutral', 'positive']\n",
    "\n",
    "# Cuenta la cantidad de ejemplos en cada clase\n",
    "class_distribution = df['sentiment'].value_counts()\n",
    "\n",
    "# Mapea las etiquetas numéricas a los nombres de clases\n",
    "class_distribution.index = class_names\n",
    "\n",
    "# Grafica la distribución de clases\n",
    "plt.figure(figsize=(8, 6))\n",
    "sns.barplot(x=class_distribution.index, y=class_distribution.values, palette='viridis')\n",
    "plt.title('Distribución de Clases')\n",
    "plt.xlabel('Clases')\n",
    "plt.ylabel('Cantidad de Ejemplos')\n",
    "plt.show()\n"
   ]
  },
  {
   "cell_type": "code",
   "execution_count": 20,
   "metadata": {
    "colab": {
     "base_uri": "https://localhost:8080/"
    },
    "id": "KaRGx3pW9fyx",
    "outputId": "961089db-9571-438c-f45c-e9bba1bde6e7"
   },
   "outputs": [
    {
     "name": "stdout",
     "output_type": "stream",
     "text": [
      "sentences shape: (15746,)\n",
      "[\"Update: After getting a response from the developer I would change my rating to 0 stars if possible. These guys hide behind confusing and opaque terms and refuse to budge at all. I'm so annoyed that my money has been lost to them! Really terrible customer experience. Original: Be very careful when signing up for a free trial of this app. If you happen to go over they automatically charge you for a full years subscription and refuse to refund. Terrible customer experience and the app is just OK.\"\n",
      " 'Used it for a fair amount of time without any problems. Suddenly then asked me to create an account or log using Google or FB. I used my Google one only to discover everything was gone!'\n",
      " \"Your app sucks now!!!!! Used to be good but now doesn't update until I physically open it up and then close it then scroll and then it finally shows what I want to put on the list!!!!!! And I FRIGGEN paid for this garbage!!!!!!!\"]\n"
     ]
    },
    {
     "data": {
      "image/png": "[encoded data removed]",
      "text/plain": [
       "<Figure size 640x480 with 1 Axes>"
      ]
     },
     "metadata": {},
     "output_type": "display_data"
    },
    {
     "name": "stdout",
     "output_type": "stream",
     "text": [
      "Longitud máxima: 2176\n",
      "Longitud media: 180.92677505398197\n",
      "Percentil 90 de la longitud: 422.0\n",
      "Mediana: 139.0\n",
      "Media 181.0\n",
      "Moda ModeResult(mode=4, count=178)\n"
     ]
    }
   ],
   "source": [
    "import numpy as np\n",
    "import scipy.stats as stats\n",
    "\n",
    "sentences = df['content'].values\n",
    "print(\"sentences shape:\", sentences.shape)\n",
    "print(sentences[:3])\n",
    "\n",
    "sequence_lengths = [len(seq) for seq in sentences]\n",
    "plt.hist(sequence_lengths, bins=50)\n",
    "plt.xlabel('Longitud de la secuencia')\n",
    "plt.ylabel('Frecuencia')\n",
    "plt.title('Distribución de la longitud de las secuencias')\n",
    "plt.show()\n",
    "\n",
    "print(f\"Longitud máxima: {max(sequence_lengths)}\")\n",
    "print(f\"Longitud media: {np.mean(sequence_lengths)}\")\n",
    "print(f\"Percentil 90 de la longitud: {np.percentile(sequence_lengths, 90)}\")\n",
    "\n",
    "print(\"Mediana:\", round(np.median(sequence_lengths),0))\n",
    "print('Media', round(np.mean(sequence_lengths),0))\n",
    "print('Moda', stats.mode(sequence_lengths))"
   ]
  },
  {
   "cell_type": "code",
   "execution_count": 21,
   "metadata": {
    "colab": {
     "base_uri": "https://localhost:8080/"
    },
    "id": "c26zJ7qUAV4F",
    "outputId": "f1f9eadd-430e-407a-99c2-ae079f21708a"
   },
   "outputs": [
    {
     "name": "stdout",
     "output_type": "stream",
     "text": [
      "y shape: (15746,)\n",
      "[[1. 0. 0.]\n",
      " [1. 0. 0.]\n",
      " [1. 0. 0.]]\n",
      "output shape: 3\n"
     ]
    }
   ],
   "source": [
    "from tensorflow.keras.utils import to_categorical\n",
    "\n",
    "y = df['sentiment'].values\n",
    "print(\"y shape:\", y.shape)\n",
    "y = to_categorical(y)\n",
    "print(y[:3])\n",
    "num_classes = y.shape[1]\n",
    "print(\"output shape:\", num_classes)"
   ]
  },
  {
   "cell_type": "markdown",
   "metadata": {
    "id": "qvoZ8YlK0vOQ"
   },
   "source": [
    "## Procesamiento, Tokenización y generador de datos\n"
   ]
  },
  {
   "cell_type": "code",
   "execution_count": 11,
   "metadata": {},
   "outputs": [
    {
     "name": "stderr",
     "output_type": "stream",
     "text": [
      "/opt/anaconda3/envs/anaconda_python_3.10/lib/python3.10/site-packages/transformers/tokenization_utils_base.py:1601: FutureWarning: `clean_up_tokenization_spaces` was not set. It will be set to `True` by default. This behavior will be depracted in transformers v4.45, and will be then set to `False` by default. For more details check this issue: https://github.com/huggingface/transformers/issues/31884\n",
      "  warnings.warn(\n"
     ]
    }
   ],
   "source": [
    "from transformers import InputExample, InputFeatures  # Métodos para transformar el dataset\n",
    "from transformers import BertTokenizer, TFBertModel\n",
    "import numpy as np\n",
    "\n",
    "bert_tokenizer = BertTokenizer.from_pretrained(\"bert-base-uncased\")"
   ]
  },
  {
   "cell_type": "code",
   "execution_count": 23,
   "metadata": {},
   "outputs": [
    {
     "name": "stdout",
     "output_type": "stream",
     "text": [
      "10076 2520 3150\n"
     ]
    }
   ],
   "source": [
    "from sklearn.model_selection import train_test_split\n",
    "\n",
    "indices = np.arange(len(sentences))\n",
    "\n",
    "idx_train_val, idx_test = train_test_split(indices, test_size=0.2, random_state=42)\n",
    "idx_train, idx_val = train_test_split(idx_train_val, test_size=0.2, random_state=42)\n",
    "\n",
    "\n",
    "print(idx_train.shape[0], idx_val.shape[0], idx_test.shape[0])"
   ]
  },
  {
   "cell_type": "code",
   "execution_count": 24,
   "metadata": {},
   "outputs": [
    {
     "name": "stdout",
     "output_type": "stream",
     "text": [
      "Cantidad de muestras en el conjunto de entrenamiento: 10076\n",
      "Cantidad de muestras en el conjunto de validación: 2520\n",
      "Cantidad de muestras en el conjunto de test: 3150\n"
     ]
    }
   ],
   "source": [
    "print(f\"Cantidad de muestras en el conjunto de entrenamiento: {idx_train.shape[0]}\")\n",
    "print(f\"Cantidad de muestras en el conjunto de validación: {idx_val.shape[0]}\")\n",
    "print(f\"Cantidad de muestras en el conjunto de test: {idx_test.shape[0]}\")"
   ]
  },
  {
   "cell_type": "markdown",
   "metadata": {},
   "source": [
    "Hiperparámetros"
   ]
  },
  {
   "cell_type": "code",
   "execution_count": 25,
   "metadata": {},
   "outputs": [],
   "source": [
    "batch_size = 32\n",
    "epochs = 15"
   ]
  },
  {
   "cell_type": "code",
   "execution_count": 26,
   "metadata": {
    "id": "MMfyhfKqfs6G"
   },
   "outputs": [],
   "source": [
    "def convert_data_to_examples(text, labels, idx_train, idx_val):\n",
    "    # Armamos un \"InputExample\" para los datos de entrenamiento y validación\n",
    "    train_InputExamples = [InputExample(guid=None, # Globally unique ID for bookkeeping, unused in this case\n",
    "                                                          text_a = text[i], \n",
    "                                                          text_b = None,\n",
    "                                                          label = labels[i]) for i in idx_train]\n",
    "\n",
    "    validation_InputExamples = [InputExample(guid=None, # Globally unique ID for bookkeeping, unused in this case\n",
    "                                                          text_a = text[i],\n",
    "                                                          text_b = None,\n",
    "                                                          label = labels[i]) for i in idx_val]\n",
    "  \n",
    "    return train_InputExamples, validation_InputExamples\n",
    "\n",
    " \n",
    "def convert_examples_to_tf_dataset(examples, bert_tokenizer, num_classes=3, max_length=512):\n",
    "    # Transformamos los datos de entrada en tensorres de:\n",
    "    # input_ids --> token id\n",
    "    # attention_mask\n",
    "    # token type\n",
    "    features = []\n",
    "\n",
    "    for e in examples:\n",
    "        # Documentation is really strong for this method, so please take a look at it\n",
    "        input_dict = bert_tokenizer.encode_plus(\n",
    "            e.text_a,\n",
    "            add_special_tokens=True,\n",
    "            max_length=max_length, # truncates if len(s) > max_length\n",
    "            return_token_type_ids=False,\n",
    "            return_attention_mask=True,\n",
    "            padding='max_length', # pads to the right by default # CHECK THIS for pad_to_max_length\n",
    "            truncation=True\n",
    "        )\n",
    "\n",
    "        input_ids, attention_mask = (input_dict[\"input_ids\"], input_dict['attention_mask'])\n",
    "\n",
    "        features.append(\n",
    "            InputFeatures(\n",
    "                input_ids=input_ids, attention_mask=attention_mask, label=e.label\n",
    "            )\n",
    "        )\n",
    "\n",
    "    def gen():\n",
    "    # Función generadora para no levantar todos los datos en un instante\n",
    "        for f in features:\n",
    "            yield (\n",
    "                {\n",
    "                    \"input_ids\": f.input_ids,\n",
    "                    \"attention_mask\": f.attention_mask,\n",
    "                },\n",
    "                f.label,\n",
    "            )\n",
    "\n",
    "    return tensorflow.data.Dataset.from_generator(\n",
    "        # Tensorflow dataset generator (basado en el generador y en el esquema de datos definido)\n",
    "        gen,\n",
    "        ({\"input_ids\": tensorflow.int32, \"attention_mask\": tensorflow.int32}, tensorflow.float32),\n",
    "        (\n",
    "            {\n",
    "                \"input_ids\": tensorflow.TensorShape([None]),\n",
    "                \"attention_mask\": tensorflow.TensorShape([None]),\n",
    "            },\n",
    "            tensorflow.TensorShape([num_classes]),\n",
    "        ),\n",
    "    )"
   ]
  },
  {
   "cell_type": "code",
   "execution_count": 27,
   "metadata": {},
   "outputs": [],
   "source": [
    "train_InputExamples, validation_InputExamples = convert_data_to_examples(sentences, y, idx_train, idx_val)\n",
    "\n",
    "train_data = convert_examples_to_tf_dataset(list(train_InputExamples), bert_tokenizer,  num_classes=num_classes, max_length=max_length)\n",
    "train_data = train_data.shuffle(100).batch(batch_size)\n",
    "\n",
    "validation_data = convert_examples_to_tf_dataset(list(validation_InputExamples), bert_tokenizer, num_classes=num_classes, max_length=max_length)\n",
    "validation_data = validation_data.batch(batch_size)"
   ]
  },
  {
   "cell_type": "code",
   "execution_count": 28,
   "metadata": {
    "colab": {
     "base_uri": "https://localhost:8080/"
    },
    "id": "aQV1WrdKFJnF",
    "outputId": "eccbd408-606b-4b67-aeba-36d5c42825f4"
   },
   "outputs": [],
   "source": [
    "pred_sentences = [sentences[i] for i in idx_test]\n",
    "tf_batch = bert_tokenizer(pred_sentences, max_length=max_length, padding=True, truncation=True, return_tensors='tf')"
   ]
  },
  {
   "cell_type": "code",
   "execution_count": 29,
   "metadata": {
    "id": "ZUBLlpH0GAVE"
   },
   "outputs": [],
   "source": [
    "X_test = [tf_batch['input_ids'],  \n",
    "          tf_batch['attention_mask']]\n",
    "\n",
    "y_test = y[idx_test]"
   ]
  },
  {
   "cell_type": "markdown",
   "metadata": {
    "id": "kNinUuS6nqRJ"
   },
   "source": [
    "## BERT classification"
   ]
  },
  {
   "cell_type": "code",
   "execution_count": 30,
   "metadata": {
    "colab": {
     "base_uri": "https://localhost:8080/"
    },
    "id": "aQKTqv20j5kA",
    "outputId": "c513e516-0a71-4920-f17b-8fcc9a449627"
   },
   "outputs": [
    {
     "name": "stdout",
     "output_type": "stream",
     "text": [
      "Epoch 1/15\n"
     ]
    },
    {
     "name": "stderr",
     "output_type": "stream",
     "text": [
      "2024-08-31 22:39:00.314705: I tensorflow/core/grappler/optimizers/custom_graph_optimizer_registry.cc:117] Plugin optimizer for device_type GPU is enabled.\n",
      "2024-08-31 22:39:01.349165: E tensorflow/core/grappler/optimizers/meta_optimizer.cc:966] model_pruner failed: INVALID_ARGUMENT: Graph does not contain terminal node Adam/AssignAddVariableOp_10.\n"
     ]
    },
    {
     "name": "stdout",
     "output_type": "stream",
     "text": [
      "    315/Unknown - 489s 1s/step - loss: 0.9448 - accuracy: 0.5152 - f1_score: 0.4995 - precision: 0.6317 - recall: 0.3124"
     ]
    },
    {
     "name": "stderr",
     "output_type": "stream",
     "text": [
      "2024-08-31 22:47:03.710480: I tensorflow/core/framework/local_rendezvous.cc:404] Local rendezvous is aborting with status: OUT_OF_RANGE: End of sequence\n",
      "\t [[{{node IteratorGetNext}}]]\n",
      "2024-08-31 22:47:03.710506: I tensorflow/core/framework/local_rendezvous.cc:427] Local rendezvous send item cancelled. Key hash: 2403237463367434206\n",
      "2024-08-31 22:47:03.710516: I tensorflow/core/framework/local_rendezvous.cc:423] Local rendezvous recv item cancelled. Key hash: 12664365697821177926\n",
      "2024-08-31 22:47:03.710519: I tensorflow/core/framework/local_rendezvous.cc:404] Local rendezvous is aborting with status: OUT_OF_RANGE: End of sequence\n",
      "\t [[{{node IteratorGetNext}}]]\n",
      "\t [[Adam/add/_16]]\n",
      "2024-08-31 22:47:03.710530: I tensorflow/core/framework/local_rendezvous.cc:423] Local rendezvous recv item cancelled. Key hash: 15515986896884109543\n",
      "2024-08-31 22:47:03.710534: I tensorflow/core/framework/local_rendezvous.cc:423] Local rendezvous recv item cancelled. Key hash: 14102624673705411586\n",
      "2024-08-31 22:47:03.710539: I tensorflow/core/framework/local_rendezvous.cc:423] Local rendezvous recv item cancelled. Key hash: 3784502105332232601\n",
      "2024-08-31 22:47:03.710543: I tensorflow/core/framework/local_rendezvous.cc:423] Local rendezvous recv item cancelled. Key hash: 15451026163064582691\n",
      "2024-08-31 22:47:03.710549: I tensorflow/core/framework/local_rendezvous.cc:423] Local rendezvous recv item cancelled. Key hash: 5267006765004231679\n",
      "2024-08-31 22:47:03.710551: I tensorflow/core/framework/local_rendezvous.cc:427] Local rendezvous send item cancelled. Key hash: 305584139082482561\n",
      "2024-08-31 22:47:03.710554: I tensorflow/core/framework/local_rendezvous.cc:423] Local rendezvous recv item cancelled. Key hash: 14505542759409956080\n",
      "2024-08-31 22:47:03.710559: I tensorflow/core/framework/local_rendezvous.cc:423] Local rendezvous recv item cancelled. Key hash: 702582501608052529\n",
      "2024-08-31 22:47:03.710562: I tensorflow/core/framework/local_rendezvous.cc:423] Local rendezvous recv item cancelled. Key hash: 16998696311069861242\n",
      "2024-08-31 22:47:03.710566: I tensorflow/core/framework/local_rendezvous.cc:423] Local rendezvous recv item cancelled. Key hash: 3518518203537402435\n",
      "2024-08-31 22:47:03.710570: I tensorflow/core/framework/local_rendezvous.cc:423] Local rendezvous recv item cancelled. Key hash: 16855894378720055118\n",
      "2024-08-31 22:47:03.710575: I tensorflow/core/framework/local_rendezvous.cc:423] Local rendezvous recv item cancelled. Key hash: 17159925922855799355\n",
      "2024-08-31 22:47:03.710577: I tensorflow/core/framework/local_rendezvous.cc:427] Local rendezvous send item cancelled. Key hash: 9005627161567915037\n",
      "2024-08-31 22:47:03.710580: I tensorflow/core/framework/local_rendezvous.cc:423] Local rendezvous recv item cancelled. Key hash: 13798327535984385719\n"
     ]
    },
    {
     "name": "stdout",
     "output_type": "stream",
     "text": [
      "315/315 [==============================] - 528s 2s/step - loss: 0.9448 - accuracy: 0.5152 - f1_score: 0.4995 - precision: 0.6317 - recall: 0.3124 - val_loss: 0.8087 - val_accuracy: 0.6198 - val_f1_score: 0.6007 - val_precision: 0.6823 - val_recall: 0.5087\n",
      "Epoch 2/15\n"
     ]
    },
    {
     "name": "stderr",
     "output_type": "stream",
     "text": [
      "2024-08-31 22:47:42.635441: I tensorflow/core/framework/local_rendezvous.cc:423] Local rendezvous recv item cancelled. Key hash: 5592504762137108618\n",
      "2024-08-31 22:47:42.635454: I tensorflow/core/framework/local_rendezvous.cc:427] Local rendezvous send item cancelled. Key hash: 4860425429534487054\n",
      "2024-08-31 22:47:42.635458: I tensorflow/core/framework/local_rendezvous.cc:404] Local rendezvous is aborting with status: OUT_OF_RANGE: End of sequence\n",
      "\t [[{{node IteratorGetNext}}]]\n",
      "\t [[model_1/tf_bert_model/bert/embeddings/assert_less/All/_20]]\n",
      "2024-08-31 22:47:42.635465: I tensorflow/core/framework/local_rendezvous.cc:427] Local rendezvous send item cancelled. Key hash: 11463728007113934084\n",
      "2024-08-31 22:47:42.635468: I tensorflow/core/framework/local_rendezvous.cc:423] Local rendezvous recv item cancelled. Key hash: 929111490884119071\n",
      "2024-08-31 22:47:42.635471: I tensorflow/core/framework/local_rendezvous.cc:427] Local rendezvous send item cancelled. Key hash: 4787445749704753125\n",
      "2024-08-31 22:47:42.635474: I tensorflow/core/framework/local_rendezvous.cc:423] Local rendezvous recv item cancelled. Key hash: 5070705924102526554\n",
      "2024-08-31 22:47:42.635477: I tensorflow/core/framework/local_rendezvous.cc:427] Local rendezvous send item cancelled. Key hash: 17557117427025755962\n"
     ]
    },
    {
     "name": "stdout",
     "output_type": "stream",
     "text": [
      "315/315 [==============================] - 434s 1s/step - loss: 0.7848 - accuracy: 0.6331 - f1_score: 0.6246 - precision: 0.6931 - recall: 0.5184 - val_loss: 0.7616 - val_accuracy: 0.6516 - val_f1_score: 0.6208 - val_precision: 0.6843 - val_recall: 0.5762\n",
      "Epoch 3/15\n",
      "315/315 [==============================] - 430s 1s/step - loss: 0.7385 - accuracy: 0.6596 - f1_score: 0.6542 - precision: 0.7049 - recall: 0.5734 - val_loss: 0.7466 - val_accuracy: 0.6675 - val_f1_score: 0.6461 - val_precision: 0.6964 - val_recall: 0.5988\n",
      "Epoch 4/15\n",
      "315/315 [==============================] - 426s 1s/step - loss: 0.6911 - accuracy: 0.6865 - f1_score: 0.6822 - precision: 0.7169 - recall: 0.6184 - val_loss: 0.7220 - val_accuracy: 0.6706 - val_f1_score: 0.6620 - val_precision: 0.6904 - val_recall: 0.6302\n",
      "Epoch 5/15\n",
      "315/315 [==============================] - 434s 1s/step - loss: 0.6573 - accuracy: 0.7068 - f1_score: 0.7033 - precision: 0.7359 - recall: 0.6571 - val_loss: 0.7229 - val_accuracy: 0.6794 - val_f1_score: 0.6729 - val_precision: 0.6944 - val_recall: 0.6464\n",
      "Epoch 6/15\n",
      "315/315 [==============================] - 440s 1s/step - loss: 0.6339 - accuracy: 0.7216 - f1_score: 0.7184 - precision: 0.7415 - recall: 0.6796 - val_loss: 0.7104 - val_accuracy: 0.6770 - val_f1_score: 0.6703 - val_precision: 0.6987 - val_recall: 0.6425\n",
      "Epoch 7/15\n",
      "315/315 [==============================] - 594s 2s/step - loss: 0.6068 - accuracy: 0.7330 - f1_score: 0.7300 - precision: 0.7526 - recall: 0.6999 - val_loss: 0.7003 - val_accuracy: 0.6948 - val_f1_score: 0.6892 - val_precision: 0.7111 - val_recall: 0.6516\n",
      "Epoch 8/15\n",
      "315/315 [==============================] - 737s 2s/step - loss: 0.5955 - accuracy: 0.7347 - f1_score: 0.7318 - precision: 0.7550 - recall: 0.7045 - val_loss: 0.6959 - val_accuracy: 0.6925 - val_f1_score: 0.6805 - val_precision: 0.7072 - val_recall: 0.6603\n",
      "Epoch 9/15\n",
      "315/315 [==============================] - 726s 2s/step - loss: 0.5636 - accuracy: 0.7583 - f1_score: 0.7560 - precision: 0.7749 - recall: 0.7326 - val_loss: 0.6848 - val_accuracy: 0.6972 - val_f1_score: 0.6889 - val_precision: 0.7110 - val_recall: 0.6698\n",
      "Epoch 10/15\n",
      "315/315 [==============================] - 743s 2s/step - loss: 0.5386 - accuracy: 0.7687 - f1_score: 0.7667 - precision: 0.7840 - recall: 0.7493 - val_loss: 0.6938 - val_accuracy: 0.6976 - val_f1_score: 0.6905 - val_precision: 0.7139 - val_recall: 0.6742\n",
      "Epoch 11/15\n",
      "315/315 [==============================] - 748s 2s/step - loss: 0.5227 - accuracy: 0.7799 - f1_score: 0.7779 - precision: 0.7929 - recall: 0.7624 - val_loss: 0.6858 - val_accuracy: 0.7135 - val_f1_score: 0.7083 - val_precision: 0.7275 - val_recall: 0.6897\n",
      "Epoch 12/15\n",
      "315/315 [==============================] - 730s 2s/step - loss: 0.4987 - accuracy: 0.7889 - f1_score: 0.7868 - precision: 0.7996 - recall: 0.7716 - val_loss: 0.6855 - val_accuracy: 0.7127 - val_f1_score: 0.7083 - val_precision: 0.7229 - val_recall: 0.6917\n",
      "Epoch 13/15\n",
      "315/315 [==============================] - 741s 2s/step - loss: 0.4682 - accuracy: 0.8041 - f1_score: 0.8027 - precision: 0.8151 - recall: 0.7917 - val_loss: 0.6990 - val_accuracy: 0.7194 - val_f1_score: 0.7123 - val_precision: 0.7299 - val_recall: 0.7004\n",
      "Epoch 14/15\n",
      "315/315 [==============================] - 527s 2s/step - loss: 0.4681 - accuracy: 0.8030 - f1_score: 0.8015 - precision: 0.8138 - recall: 0.7867 - val_loss: 0.6751 - val_accuracy: 0.7194 - val_f1_score: 0.7184 - val_precision: 0.7319 - val_recall: 0.7052\n",
      "Epoch 15/15\n",
      "315/315 [==============================] - 427s 1s/step - loss: 0.4640 - accuracy: 0.8056 - f1_score: 0.8043 - precision: 0.8171 - recall: 0.7913 - val_loss: 0.7497 - val_accuracy: 0.7079 - val_f1_score: 0.6882 - val_precision: 0.7155 - val_recall: 0.6857\n"
     ]
    }
   ],
   "source": [
    "history_3_classes = model.fit(train_data, epochs=epochs, validation_data=validation_data)"
   ]
  },
  {
   "cell_type": "code",
   "execution_count": 31,
   "metadata": {
    "colab": {
     "base_uri": "https://localhost:8080/",
     "height": 265
    },
    "id": "qj2dAl-tnxY-",
    "outputId": "b7975840-720c-44e6-ba18-736088540703"
   },
   "outputs": [
    {
     "data": {
      "image/png": "[encoded data removed]",
      "text/plain": [
       "<Figure size 800x400 with 1 Axes>"
      ]
     },
     "metadata": {},
     "output_type": "display_data"
    },
    {
     "data": {
      "image/png": "[encoded data removed]",
      "text/plain": [
       "<Figure size 800x400 with 1 Axes>"
      ]
     },
     "metadata": {},
     "output_type": "display_data"
    }
   ],
   "source": [
    "plot_train_metrics(history_3_classes)"
   ]
  },
  {
   "cell_type": "markdown",
   "metadata": {},
   "source": [
    "### Predicciones y evaluación del modelo con fine tuning"
   ]
  },
  {
   "cell_type": "code",
   "execution_count": 32,
   "metadata": {},
   "outputs": [
    {
     "name": "stdout",
     "output_type": "stream",
     "text": [
      "99/99 [==============================] - 53s 475ms/step\n",
      "true_labels: [[1. 0. 0.]\n",
      " [1. 0. 0.]\n",
      " [1. 0. 0.]\n",
      " ...\n",
      " [0. 1. 0.]\n",
      " [0. 0. 1.]\n",
      " [0. 0. 1.]]\n",
      "predicted_labels: [0 1 1 ... 1 1 2]\n",
      "unique values in true_labels: [0. 1.]\n",
      "unique values in predicted_labels: [0 1 2]\n"
     ]
    }
   ],
   "source": [
    "predictions = model.predict(X_test)\n",
    "predicted_labels = np.argmax(predictions, axis=-1)\n",
    "true_labels = y_test  \n",
    "\n",
    "print(\"true_labels:\", true_labels)\n",
    "print(\"predicted_labels:\", predicted_labels)\n",
    "print(\"unique values in true_labels:\", np.unique(true_labels))\n",
    "print(\"unique values in predicted_labels:\", np.unique(predicted_labels))"
   ]
  },
  {
   "cell_type": "code",
   "execution_count": 33,
   "metadata": {},
   "outputs": [
    {
     "name": "stdout",
     "output_type": "stream",
     "text": [
      "true_labels: [0 0 0 ... 1 2 2]\n",
      "predicted_labels: [0 1 1 ... 1 1 2]\n",
      "unique values in true_labels: [0 1 2]\n",
      "unique values in predicted_labels: [0 1 2]\n"
     ]
    }
   ],
   "source": [
    "# Convertir true_labels de one-hot encoding a etiquetas enteras\n",
    "true_labels = np.argmax(y_test, axis=-1)\n",
    "\n",
    "# Imprimir las etiquetas para ver la conversión\n",
    "print(\"true_labels:\", true_labels)\n",
    "print(\"predicted_labels:\", predicted_labels)\n",
    "print(\"unique values in true_labels:\", np.unique(true_labels))\n",
    "print(\"unique values in predicted_labels:\", np.unique(predicted_labels))"
   ]
  },
  {
   "cell_type": "code",
   "execution_count": 34,
   "metadata": {},
   "outputs": [
    {
     "name": "stdout",
     "output_type": "stream",
     "text": [
      "Classification Report:\n",
      "               precision    recall  f1-score   support\n",
      "\n",
      "    negative       0.71      0.81      0.76       997\n",
      "     neutral       0.63      0.44      0.51       979\n",
      "    positive       0.75      0.86      0.80      1174\n",
      "\n",
      "    accuracy                           0.71      3150\n",
      "   macro avg       0.70      0.70      0.69      3150\n",
      "weighted avg       0.70      0.71      0.70      3150\n",
      "\n"
     ]
    },
    {
     "data": {
      "image/png": "[encoded data removed]",
      "text/plain": [
       "<Figure size 1000x700 with 2 Axes>"
      ]
     },
     "metadata": {},
     "output_type": "display_data"
    }
   ],
   "source": [
    "# Imprimir el classification report y la matriz de confusión\n",
    "from sklearn.metrics import classification_report, confusion_matrix\n",
    "import seaborn as sns\n",
    "import matplotlib.pyplot as plt\n",
    "# Evaluar el modelo\n",
    "\n",
    "print(\"Classification Report:\\n\", classification_report(true_labels, predicted_labels, target_names=['negative', 'neutral', 'positive']))\n",
    "\n",
    "# Crear y mostrar la matriz de confusión\n",
    "conf_matrix = confusion_matrix(true_labels, predicted_labels)\n",
    "plt.figure(figsize=(10, 7))\n",
    "sns.heatmap(conf_matrix, annot=True, fmt='d', cmap='Blues', \n",
    "            xticklabels=['negative', 'neutral', 'positive'], \n",
    "            yticklabels=['negative', 'neutral', 'positive'])\n",
    "plt.xlabel('Predicted')\n",
    "plt.ylabel('True')\n",
    "plt.title('Confusion Matrix')\n",
    "plt.show()\n"
   ]
  },
  {
   "cell_type": "code",
   "execution_count": 35,
   "metadata": {
    "colab": {
     "base_uri": "https://localhost:8080/"
    },
    "id": "tSNbyLNYwdqQ",
    "outputId": "a432dc0b-96ae-43af-da62-2a739a20761a"
   },
   "outputs": [
    {
     "name": "stdout",
     "output_type": "stream",
     "text": [
      "99/99 [==============================] - 55s 502ms/step - loss: 0.7195 - accuracy: 0.7108 - f1_score: 0.6908 - precision: 0.7231 - recall: 0.6879\n",
      "0.7194818258285522\n",
      "0.710793673992157\n",
      "0.6908453702926636\n"
     ]
    }
   ],
   "source": [
    "# Calcular la exactitud (accuracy)\n",
    "scores = model.evaluate(X_test, y_test)\n",
    "print(scores[0])\n",
    "print(scores[1])\n",
    "print(scores[2])"
   ]
  },
  {
   "cell_type": "markdown",
   "metadata": {},
   "source": [
    "### Guardar el modelo"
   ]
  },
  {
   "cell_type": "code",
   "execution_count": 36,
   "metadata": {},
   "outputs": [
    {
     "name": "stderr",
     "output_type": "stream",
     "text": [
      "/opt/anaconda3/envs/anaconda_python_3.10/lib/python3.10/site-packages/transformers/generation/tf_utils.py:465: UserWarning: `seed_generator` is deprecated and will be removed in a future version.\n",
      "  warnings.warn(\"`seed_generator` is deprecated and will be removed in a future version.\", UserWarning)\n"
     ]
    }
   ],
   "source": [
    "model.save_weights('bert_model_weights_fine_tuning.weights.h5')"
   ]
  },
  {
   "cell_type": "markdown",
   "metadata": {
    "id": "JEweoQu6AXT1"
   },
   "source": [
    "### Levantar el modelo"
   ]
  },
  {
   "cell_type": "code",
   "execution_count": 6,
   "metadata": {},
   "outputs": [
    {
     "name": "stderr",
     "output_type": "stream",
     "text": [
      "Some weights of the PyTorch model were not used when initializing the TF 2.0 model TFBertModel: ['cls.predictions.transform.dense.weight', 'cls.predictions.transform.LayerNorm.weight', 'cls.predictions.transform.dense.bias', 'cls.predictions.transform.LayerNorm.bias', 'cls.seq_relationship.bias', 'cls.predictions.bias', 'cls.seq_relationship.weight']\n",
      "- This IS expected if you are initializing TFBertModel from a PyTorch model trained on another task or with another architecture (e.g. initializing a TFBertForSequenceClassification model from a BertForPreTraining model).\n",
      "- This IS NOT expected if you are initializing TFBertModel from a PyTorch model that you expect to be exactly identical (e.g. initializing a TFBertForSequenceClassification model from a BertForSequenceClassification model).\n",
      "All the weights of TFBertModel were initialized from the PyTorch model.\n",
      "If your task is similar to the task the model of the checkpoint was trained on, you can already use TFBertModel for predictions without further training.\n",
      "WARNING:absl:At this time, the v2.11+ optimizer `tf.keras.optimizers.Adam` runs slowly on M1/M2 Macs, please use the legacy TF-Keras optimizer instead, located at `tf.keras.optimizers.legacy.Adam`.\n"
     ]
    }
   ],
   "source": [
    "import tensorflow as tf\n",
    "\n",
    "bert_model = TFBertModel.from_pretrained('bert-base-uncased')\n",
    "bert_model.bert.trainable = True \n",
    "\n",
    "input_ids = tf.keras.Input(shape=(max_length,), dtype=tf.int32, name='input_ids')\n",
    "attention_mask = tf.keras.Input(shape=(max_length,), dtype=tf.int32, name='attention_mask')\n",
    "\n",
    "# Usar el modelo BERT\n",
    "outputs = bert_model(input_ids, attention_mask=attention_mask)\n",
    "pooled_output = outputs.pooler_output\n",
    "\n",
    "# Añadir capas adicionales\n",
    "x = tf.keras.layers.Dropout(0.2)(pooled_output)\n",
    "output = tf.keras.layers.Dense(num_classes, activation='softmax')(x)\n",
    "\n",
    "# Reconstruir el modelo\n",
    "final_model = tf.keras.Model(inputs=[input_ids, attention_mask], outputs=output)\n",
    "\n",
    "# Compilar el modelo con el optimizador y las métricas\n",
    "optimizer = tf.keras.optimizers.Adam(learning_rate=0.00001)\n",
    "final_model.compile(optimizer=optimizer,\n",
    "              loss='categorical_crossentropy',\n",
    "              metrics=['accuracy', tf.keras.metrics.Precision(), tf.keras.metrics.Recall(), tf.keras.metrics.AUC()])"
   ]
  },
  {
   "cell_type": "code",
   "execution_count": 7,
   "metadata": {},
   "outputs": [
    {
     "name": "stderr",
     "output_type": "stream",
     "text": [
      "WARNING:absl:Skipping variable loading for optimizer 'Adam', because it has 1 variables whereas the saved optimizer has 403 variables. \n",
      "/opt/anaconda3/envs/anaconda_python_3.10/lib/python3.10/site-packages/transformers/generation/tf_utils.py:465: UserWarning: `seed_generator` is deprecated and will be removed in a future version.\n",
      "  warnings.warn(\"`seed_generator` is deprecated and will be removed in a future version.\", UserWarning)\n"
     ]
    },
    {
     "name": "stdout",
     "output_type": "stream",
     "text": [
      "Model: \"model\"\n",
      "__________________________________________________________________________________________________\n",
      " Layer (type)                Output Shape                 Param #   Connected to                  \n",
      "==================================================================================================\n",
      " input_ids (InputLayer)      [(None, 139)]                0         []                            \n",
      "                                                                                                  \n",
      " attention_mask (InputLayer  [(None, 139)]                0         []                            \n",
      " )                                                                                                \n",
      "                                                                                                  \n",
      " tf_bert_model_1 (TFBertMod  TFBaseModelOutputWithPooli   1094822   ['input_ids[0][0]',           \n",
      " el)                         ngAndCrossAttentions(last_   40         'attention_mask[0][0]']      \n",
      "                             hidden_state=(None, 139, 7                                           \n",
      "                             68),                                                                 \n",
      "                              pooler_output=(None, 768)                                           \n",
      "                             , past_key_values=None, hi                                           \n",
      "                             dden_states=None, attentio                                           \n",
      "                             ns=None, cross_attentions=                                           \n",
      "                             None)                                                                \n",
      "                                                                                                  \n",
      " dropout_74 (Dropout)        (None, 768)                  0         ['tf_bert_model_1[0][1]']     \n",
      "                                                                                                  \n",
      " dense (Dense)               (None, 3)                    2307      ['dropout_74[0][0]']          \n",
      "                                                                                                  \n",
      "==================================================================================================\n",
      "Total params: 109484547 (417.65 MB)\n",
      "Trainable params: 109484547 (417.65 MB)\n",
      "Non-trainable params: 0 (0.00 Byte)\n",
      "__________________________________________________________________________________________________\n"
     ]
    }
   ],
   "source": [
    "# Cargar los pesos guardados\n",
    "final_model.load_weights('bert_model_weights_fine_tuning.weights.h5')\n",
    "final_model.summary()"
   ]
  },
  {
   "cell_type": "markdown",
   "metadata": {},
   "source": [
    "### Guardar el modelo con los pesos + arquitectura"
   ]
  },
  {
   "cell_type": "code",
   "execution_count": 24,
   "metadata": {},
   "outputs": [
    {
     "name": "stderr",
     "output_type": "stream",
     "text": [
      "/opt/anaconda3/envs/anaconda_python_3.10/lib/python3.10/site-packages/transformers/generation/tf_utils.py:465: UserWarning: `seed_generator` is deprecated and will be removed in a future version.\n",
      "  warnings.warn(\"`seed_generator` is deprecated and will be removed in a future version.\", UserWarning)\n"
     ]
    }
   ],
   "source": [
    "final_model.save('final_model_fine_tuning.keras')"
   ]
  },
  {
   "cell_type": "markdown",
   "metadata": {
    "id": "OYN9aJGYA-d2"
   },
   "source": [
    "### Testeo"
   ]
  },
  {
   "cell_type": "code",
   "execution_count": 18,
   "metadata": {},
   "outputs": [],
   "source": [
    "class_names = ['negative 😡', 'neutral 😐', 'positive 😊']\n",
    "\n",
    "def test_app(text, model):\n",
    "    tf_batch = bert_tokenizer.encode_plus(\n",
    "        text,\n",
    "        add_special_tokens=True,\n",
    "        max_length=max_length, # truncates if len(s) > max_length\n",
    "        return_token_type_ids=False,\n",
    "        return_attention_mask=True,\n",
    "        pad_to_max_length=True, # pads to the right by default # CHECK THIS for pad_to_max_length\n",
    "        truncation=True,\n",
    "        return_tensors='tf'\n",
    "    )\n",
    "\n",
    "    print(\"Inputs ids:\", tf_batch['input_ids'])\n",
    "    print(\"Attention mask:\", tf_batch['attention_mask'])\n",
    "\n",
    "    X_ensayo = [tf_batch['input_ids'],  \n",
    "          tf_batch['attention_mask']]\n",
    "    \n",
    "    y_prob_ensayo = model.predict(X_ensayo)\n",
    "    y_prob = np.argmax(y_prob_ensayo, axis=1)\n",
    "    print(\"Clasificación:\", class_names[int(y_prob)])"
   ]
  },
  {
   "cell_type": "code",
   "execution_count": 19,
   "metadata": {
    "colab": {
     "base_uri": "https://localhost:8080/"
    },
    "id": "9ML7P5X8BAJe",
    "outputId": "530aa003-98a0-458e-c4c1-16d602a44003"
   },
   "outputs": [
    {
     "name": "stdout",
     "output_type": "stream",
     "text": [
      "Inputs ids: tf.Tensor(\n",
      "[[  101  1045  5223  2023 10439  1010  2009  1005  1055  9202   999   102\n",
      "      0     0     0     0     0     0     0     0     0     0     0     0\n",
      "      0     0     0     0     0     0     0     0     0     0     0     0\n",
      "      0     0     0     0     0     0     0     0     0     0     0     0\n",
      "      0     0     0     0     0     0     0     0     0     0     0     0\n",
      "      0     0     0     0     0     0     0     0     0     0     0     0\n",
      "      0     0     0     0     0     0     0     0     0     0     0     0\n",
      "      0     0     0     0     0     0     0     0     0     0     0     0\n",
      "      0     0     0     0     0     0     0     0     0     0     0     0\n",
      "      0     0     0     0     0     0     0     0     0     0     0     0\n",
      "      0     0     0     0     0     0     0     0     0     0     0     0\n",
      "      0     0     0     0     0     0     0]], shape=(1, 139), dtype=int32)\n",
      "Attention mask: tf.Tensor(\n",
      "[[1 1 1 1 1 1 1 1 1 1 1 1 0 0 0 0 0 0 0 0 0 0 0 0 0 0 0 0 0 0 0 0 0 0 0 0\n",
      "  0 0 0 0 0 0 0 0 0 0 0 0 0 0 0 0 0 0 0 0 0 0 0 0 0 0 0 0 0 0 0 0 0 0 0 0\n",
      "  0 0 0 0 0 0 0 0 0 0 0 0 0 0 0 0 0 0 0 0 0 0 0 0 0 0 0 0 0 0 0 0 0 0 0 0\n",
      "  0 0 0 0 0 0 0 0 0 0 0 0 0 0 0 0 0 0 0 0 0 0 0 0 0 0 0 0 0 0 0]], shape=(1, 139), dtype=int32)\n",
      "1/1 [==============================] - 0s 453ms/step\n",
      "Clasificación: negative 😡\n"
     ]
    }
   ],
   "source": [
    "text = \"I hate this app, it's horrible!\"\n",
    "\n",
    "test_app(text, final_model)"
   ]
  },
  {
   "cell_type": "code",
   "execution_count": 20,
   "metadata": {},
   "outputs": [
    {
     "name": "stdout",
     "output_type": "stream",
     "text": [
      "Inputs ids: tf.Tensor(\n",
      "[[  101  1045  2293  2023 10439   999  2003  5310  5379   102     0     0\n",
      "      0     0     0     0     0     0     0     0     0     0     0     0\n",
      "      0     0     0     0     0     0     0     0     0     0     0     0\n",
      "      0     0     0     0     0     0     0     0     0     0     0     0\n",
      "      0     0     0     0     0     0     0     0     0     0     0     0\n",
      "      0     0     0     0     0     0     0     0     0     0     0     0\n",
      "      0     0     0     0     0     0     0     0     0     0     0     0\n",
      "      0     0     0     0     0     0     0     0     0     0     0     0\n",
      "      0     0     0     0     0     0     0     0     0     0     0     0\n",
      "      0     0     0     0     0     0     0     0     0     0     0     0\n",
      "      0     0     0     0     0     0     0     0     0     0     0     0\n",
      "      0     0     0     0     0     0     0]], shape=(1, 139), dtype=int32)\n",
      "Attention mask: tf.Tensor(\n",
      "[[1 1 1 1 1 1 1 1 1 1 0 0 0 0 0 0 0 0 0 0 0 0 0 0 0 0 0 0 0 0 0 0 0 0 0 0\n",
      "  0 0 0 0 0 0 0 0 0 0 0 0 0 0 0 0 0 0 0 0 0 0 0 0 0 0 0 0 0 0 0 0 0 0 0 0\n",
      "  0 0 0 0 0 0 0 0 0 0 0 0 0 0 0 0 0 0 0 0 0 0 0 0 0 0 0 0 0 0 0 0 0 0 0 0\n",
      "  0 0 0 0 0 0 0 0 0 0 0 0 0 0 0 0 0 0 0 0 0 0 0 0 0 0 0 0 0 0 0]], shape=(1, 139), dtype=int32)\n",
      "1/1 [==============================] - 0s 219ms/step\n",
      "Clasificación: positive 😊\n"
     ]
    }
   ],
   "source": [
    "text2 = \"I love this app! is user friendly\"\n",
    "test_app(text2, final_model)"
   ]
  },
  {
   "cell_type": "code",
   "execution_count": 23,
   "metadata": {},
   "outputs": [
    {
     "name": "stdout",
     "output_type": "stream",
     "text": [
      "Running on local URL:  http://127.0.0.1:7861\n",
      "\n",
      "To create a public link, set `share=True` in `launch()`.\n"
     ]
    },
    {
     "data": {
      "text/html": [
       "<div><iframe src=\"http://127.0.0.1:7861/\" width=\"100%\" height=\"500\" allow=\"autoplay; camera; microphone; clipboard-read; clipboard-write;\" frameborder=\"0\" allowfullscreen></iframe></div>"
      ],
      "text/plain": [
       "<IPython.core.display.HTML object>"
      ]
     },
     "metadata": {},
     "output_type": "display_data"
    },
    {
     "data": {
      "text/plain": []
     },
     "execution_count": 23,
     "metadata": {},
     "output_type": "execute_result"
    },
    {
     "name": "stderr",
     "output_type": "stream",
     "text": [
      "/opt/anaconda3/envs/anaconda_python_3.10/lib/python3.10/site-packages/transformers/tokenization_utils_base.py:2870: FutureWarning: The `pad_to_max_length` argument is deprecated and will be removed in a future version, use `padding=True` or `padding='longest'` to pad to the longest sequence in the batch, or use `padding='max_length'` to pad to a max length. In this case, you can give a specific length with `max_length` (e.g. `max_length=45`) or leave max_length to None to pad to the maximal input size of the model (e.g. 512 for Bert).\n",
      "  warnings.warn(\n"
     ]
    },
    {
     "name": "stdout",
     "output_type": "stream",
     "text": [
      "1/1 [==============================] - 1s 502ms/step\n",
      "1/1 [==============================] - 0s 384ms/step\n",
      "1/1 [==============================] - 0s 402ms/step\n"
     ]
    }
   ],
   "source": [
    "import gradio as gr\n",
    "import numpy as np\n",
    "import tensorflow as tf\n",
    "\n",
    "def predict_sentiment(text):\n",
    "    tf_batch = bert_tokenizer.encode_plus(\n",
    "        text,\n",
    "        add_special_tokens=True,\n",
    "        max_length=max_length,\n",
    "        return_token_type_ids=False,\n",
    "        return_attention_mask=True,\n",
    "        pad_to_max_length=True,\n",
    "        truncation=True,\n",
    "        return_tensors='tf'\n",
    "    )\n",
    "\n",
    "    X_ensayo = [tf_batch['input_ids'], tf_batch['attention_mask']]\n",
    "    \n",
    "    y_prob_ensayo = final_model.predict(X_ensayo)\n",
    "    y_prob = np.argmax(y_prob_ensayo, axis=1)\n",
    "    \n",
    "    return class_names[int(y_prob)]\n",
    "\n",
    "# Crear la interfaz de Gradio\n",
    "iface = gr.Interface(\n",
    "    fn=predict_sentiment,\n",
    "    inputs=\"text\",\n",
    "    outputs=\"text\",\n",
    "    title=\"Clasificación de Sentimientos con BERT\",\n",
    "    description=\"Ingrese un texto para clasificar su sentimiento.\",\n",
    "    theme=\"soft\"\n",
    ")\n",
    "\n",
    "# Iniciar la interfaz\n",
    "iface.launch()\n"
   ]
  },
  {
   "cell_type": "markdown",
   "metadata": {},
   "source": [
    "![image-2.png](../img/image.png)"
   ]
  },
  {
   "cell_type": "markdown",
   "metadata": {},
   "source": [
    "![image-2.png](../img/image-1.png)"
   ]
  },
  {
   "cell_type": "markdown",
   "metadata": {},
   "source": [
    "![image-2.png](../img/image-2.png)"
   ]
  },
  {
   "cell_type": "markdown",
   "metadata": {
    "id": "IXu1W7-5LkPL"
   },
   "source": [
    "## Conclusiones"
   ]
  },
  {
   "cell_type": "markdown",
   "metadata": {
    "id": "3NuAxjtcPhoa"
   },
   "source": [
    "A partir del reporte de clasificación, se pueden sacar las siguientes conclusiones:\n",
    "\n",
    "1. Desempeño General del Modelo:\n",
    "\n",
    "- El modelo tiene una precisión global del 71%, lo que indica que en promedio, el 71% de las predicciones son correctas. Esta precisión es razonable, pero hay margen para mejorar.\n",
    "\n",
    "2. Rendimiento por Clase:\n",
    "\n",
    "- Clase \"Negative\": El modelo tiene el mejor rendimiento en la clase \"negative\", con una precisión del 71%, un recall del 81% y un F1-score del 76%. Esto sugiere que el modelo identifica bien las reseñas negativas y rara vez se pierde un ejemplo de esta clase.\n",
    "\n",
    "- Clase \"Neutral\": La clase \"neutral\" es la más difícil de predecir para el modelo, con una precisión del 63%, un recall del 44% y un F1-score del 51%. El bajo recall indica que muchas reseñas neutras no se están clasificando correctamente, lo que sugiere un problema en la diferenciación entre reseñas neutras y las otras clases.\n",
    "\n",
    "- Clase \"Positive\": La clase \"positive\" tiene el mejor rendimiento en términos de recall (86%), lo que significa que el modelo captura la mayoría de las reseñas positivas. Además, la precisión es del 75% y el F1-score es del 80%, indicando un buen equilibrio entre precisión y recall para esta clase.\n",
    "\n",
    "3. Promedios Macro y Ponderados:\n",
    "\n",
    "- Macro promedio: La media macro (70% precisión, 70% recall, 69% F1-score) muestra un rendimiento equilibrado en general, sin dar mayor peso a las clases con más ejemplos.\n",
    "\n",
    "- Promedio ponderado: El promedio ponderado (70% precisión, 71% recall, 70% F1-score) tiene en cuenta el soporte de cada clase, mostrando que el modelo mantiene un desempeño similar al evaluar todas las clases juntas.\n",
    "\n",
    "4. Áreas de Mejora:\n",
    "\n",
    "- Se observa que el modelo tiene dificultades con la clase \"neutral\". Es importante ajustar el modelo o mejorar los datos para ayudar a diferenciar mejor entre neutral, positivo y negativo, ya que esta clase tiene el rendimiento más bajo.\n",
    "\n",
    "El modelo es razonablemente efectivo, especialmente en la clasificación de reseñas negativas y positivas, pero necesita mejoras en la clasificación de reseñas neutras. Hay que considerar ajustes a futuro en la arquitectura o el conjunto de datos podría ayudar a equilibrar mejor el rendimiento entre todas las clases."
   ]
  }
 ],
 "metadata": {
  "accelerator": "GPU",
  "colab": {
   "provenance": []
  },
  "kernelspec": {
   "display_name": "Python 3 (ipykernel)",
   "language": "python",
   "name": "python3"
  },
  "language_info": {
   "codemirror_mode": {
    "name": "ipython",
    "version": 3
   },
   "file_extension": ".py",
   "mimetype": "text/x-python",
   "name": "python",
   "nbconvert_exporter": "python",
   "pygments_lexer": "ipython3",
   "version": "3.10.14"
  }
 },
 "nbformat": 4,
 "nbformat_minor": 4
}
